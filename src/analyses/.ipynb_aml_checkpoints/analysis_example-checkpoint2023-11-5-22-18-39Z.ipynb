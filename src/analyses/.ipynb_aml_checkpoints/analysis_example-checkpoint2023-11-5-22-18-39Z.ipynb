{
  "cells": [
    {
      "cell_type": "code",
      "source": [
        "import numpy as np\n",
        "import pandas as pd\n",
        "\n",
        "# Set random seed for reproducibility\n",
        "np.random.seed(42)\n",
        "\n",
        "# Number of samples\n",
        "n_samples = 1000\n",
        "\n",
        "# Generate predictors\n",
        "age_60_plus = np.random.binomial(1, 0.3, n_samples)\n",
        "high_cholesterol = np.random.binomial(1, 0.4, n_samples)\n",
        "diabetes = np.random.binomial(1, 0.25, n_samples)\n",
        "preventative_services = np.random.binomial(1, 0.5, n_samples)\n",
        "\n",
        "# Generate hospital_id (from 1 to 10)\n",
        "hospital_id = np.random.randint(1, 11, n_samples)\n",
        "\n",
        "# Initialize the outcome array\n",
        "er_visit = np.zeros(n_samples, dtype=int)\n",
        "\n",
        "# Simulate the outcome based on correlations\n",
        "for i in range(n_samples):\n",
        "    prob = 0.1  # Base probability of ER visit\n",
        "    if age_60_plus[i] == 1:\n",
        "        prob += 0.4\n",
        "    if high_cholesterol[i] == 1:\n",
        "        prob += 0.4\n",
        "    if diabetes[i] == 1:\n",
        "        prob += 0.2\n",
        "    if preventative_services[i] == 1:\n",
        "        prob -= 0.4\n",
        "\n",
        "    er_visit[i] = np.random.binomial(1, min(max(prob, 0), 1))\n",
        "\n",
        "# Create a DataFrame\n",
        "data = pd.DataFrame({\n",
        "    'Hospital ID': hospital_id,\n",
        "    'Age 60+': age_60_plus,\n",
        "    'High Cholesterol': high_cholesterol,\n",
        "    'Diabetes': diabetes,\n",
        "    'Preventative Services': preventative_services,\n",
        "    'ER Visit': er_visit\n",
        "})\n",
        "\n",
        "# Display the first few rows of the dataset\n",
        "print(data.head())\n"
      ],
      "outputs": [
        {
          "output_type": "stream",
          "name": "stdout",
          "text": "   Hospital ID  Age 60+  High Cholesterol  Diabetes  Preventative Services  \\\n0           10        0                 0         0                      1   \n1            5        1                 0         0                      1   \n2            5        1                 1         1                      0   \n3            7        0                 1         0                      1   \n4            4        0                 1         0                      1   \n\n   ER Visit  \n0         0  \n1         1  \n2         1  \n3         0  \n4         0  \n"
        }
      ],
      "execution_count": 1,
      "metadata": {
        "gather": {
          "logged": 1701813883639
        }
      }
    },
    {
      "cell_type": "code",
      "source": [
        "import xgboost as xgb\n",
        "from sklearn.model_selection import train_test_split\n",
        "import shap\n",
        "\n",
        "# Prepare the data\n",
        "X = data.drop(['ER Visit', 'Hospital ID'], axis=1)\n",
        "y = data['ER Visit']\n",
        "\n",
        "# Split the data into training and testing sets\n",
        "X_train, X_test, y_train, y_test = train_test_split(X, y, test_size=0.2, random_state=42)\n",
        "\n",
        "# Train the XGBoost model\n",
        "model = xgb.XGBClassifier(use_label_encoder=False, eval_metric='logloss')\n",
        "model.fit(X_train, y_train)\n",
        "\n",
        "# Make predictions (opxtional, to evaluate model)\n",
        "predictions = model.predict(X_test)\n"
      ],
      "outputs": [],
      "execution_count": 2,
      "metadata": {
        "jupyter": {
          "source_hidden": false,
          "outputs_hidden": false
        },
        "nteract": {
          "transient": {
            "deleting": false
          }
        },
        "gather": {
          "logged": 1701813889055
        }
      }
    },
    {
      "cell_type": "code",
      "source": [
        "import xgboost as xgb\n",
        "from sklearn.model_selection import train_test_split\n",
        "import shap\n",
        "\n",
        "# Assuming 'data' is your DataFrame and is already defined\n",
        "# ... [Your existing code for data preparation and model training] ...\n",
        "\n",
        "# Create a Tree explainer\n",
        "explainer = shap.Explainer(model, X_train, model_output = 'probability', feature_perturbation=\"interventional\")\n",
        "\n",
        "# Calculate SHAP values - this might take some time for larger datasets\n",
        "shap_values = explainer(X_test)\n",
        "pd.DataFrame(shap_values.values)"
      ],
      "outputs": [
        {
          "output_type": "execute_result",
          "execution_count": 17,
          "data": {
            "text/plain": "            0         1         2         3\n0   -0.160862  0.174142 -0.038191  0.168637\n1    0.264341 -0.164026 -0.025950 -0.226336\n2   -0.134345  0.157260 -0.028542 -0.194240\n3   -0.134345  0.157260 -0.028542 -0.194240\n4    0.324540 -0.188153 -0.044580  0.205025\n..        ...       ...       ...       ...\n195  0.342920 -0.197386  0.154030  0.234527\n196 -0.145189 -0.154176 -0.030979  0.145722\n197 -0.145189 -0.154176 -0.030979  0.145722\n198 -0.092359 -0.092741 -0.009581 -0.119486\n199 -0.182157 -0.191903  0.122571  0.225657\n\n[200 rows x 4 columns]",
            "text/html": "<div>\n<style scoped>\n    .dataframe tbody tr th:only-of-type {\n        vertical-align: middle;\n    }\n\n    .dataframe tbody tr th {\n        vertical-align: top;\n    }\n\n    .dataframe thead th {\n        text-align: right;\n    }\n</style>\n<table border=\"1\" class=\"dataframe\">\n  <thead>\n    <tr style=\"text-align: right;\">\n      <th></th>\n      <th>0</th>\n      <th>1</th>\n      <th>2</th>\n      <th>3</th>\n    </tr>\n  </thead>\n  <tbody>\n    <tr>\n      <th>0</th>\n      <td>-0.160862</td>\n      <td>0.174142</td>\n      <td>-0.038191</td>\n      <td>0.168637</td>\n    </tr>\n    <tr>\n      <th>1</th>\n      <td>0.264341</td>\n      <td>-0.164026</td>\n      <td>-0.025950</td>\n      <td>-0.226336</td>\n    </tr>\n    <tr>\n      <th>2</th>\n      <td>-0.134345</td>\n      <td>0.157260</td>\n      <td>-0.028542</td>\n      <td>-0.194240</td>\n    </tr>\n    <tr>\n      <th>3</th>\n      <td>-0.134345</td>\n      <td>0.157260</td>\n      <td>-0.028542</td>\n      <td>-0.194240</td>\n    </tr>\n    <tr>\n      <th>4</th>\n      <td>0.324540</td>\n      <td>-0.188153</td>\n      <td>-0.044580</td>\n      <td>0.205025</td>\n    </tr>\n    <tr>\n      <th>...</th>\n      <td>...</td>\n      <td>...</td>\n      <td>...</td>\n      <td>...</td>\n    </tr>\n    <tr>\n      <th>195</th>\n      <td>0.342920</td>\n      <td>-0.197386</td>\n      <td>0.154030</td>\n      <td>0.234527</td>\n    </tr>\n    <tr>\n      <th>196</th>\n      <td>-0.145189</td>\n      <td>-0.154176</td>\n      <td>-0.030979</td>\n      <td>0.145722</td>\n    </tr>\n    <tr>\n      <th>197</th>\n      <td>-0.145189</td>\n      <td>-0.154176</td>\n      <td>-0.030979</td>\n      <td>0.145722</td>\n    </tr>\n    <tr>\n      <th>198</th>\n      <td>-0.092359</td>\n      <td>-0.092741</td>\n      <td>-0.009581</td>\n      <td>-0.119486</td>\n    </tr>\n    <tr>\n      <th>199</th>\n      <td>-0.182157</td>\n      <td>-0.191903</td>\n      <td>0.122571</td>\n      <td>0.225657</td>\n    </tr>\n  </tbody>\n</table>\n<p>200 rows × 4 columns</p>\n</div>"
          },
          "metadata": {}
        }
      ],
      "execution_count": 17,
      "metadata": {
        "jupyter": {
          "source_hidden": false,
          "outputs_hidden": false
        },
        "nteract": {
          "transient": {
            "deleting": false
          }
        },
        "gather": {
          "logged": 1701814395189
        }
      }
    },
    {
      "cell_type": "code",
      "source": [
        "# Assuming shap_values and X have the same order\n",
        "column_mapping = {i: name for i, name in enumerate(data.drop(['ER Visit', 'Hospital ID'], axis=1).columns)}\n",
        "\n",
        "# Rename columns in the DataFrame created from SHAP values\n",
        "shap_df = pd.DataFrame(shap_values.values).rename(columns=column_mapping)"
      ],
      "outputs": [],
      "execution_count": 18,
      "metadata": {
        "jupyter": {
          "source_hidden": false,
          "outputs_hidden": false
        },
        "nteract": {
          "transient": {
            "deleting": false
          }
        },
        "gather": {
          "logged": 1701814702003
        }
      }
    },
    {
      "cell_type": "code",
      "source": [
        "shap_df"
      ],
      "outputs": [
        {
          "output_type": "execute_result",
          "execution_count": 19,
          "data": {
            "text/plain": "      Age 60+  High Cholesterol  Diabetes  Preventative Services\n0   -0.160862          0.174142 -0.038191               0.168637\n1    0.264341         -0.164026 -0.025950              -0.226336\n2   -0.134345          0.157260 -0.028542              -0.194240\n3   -0.134345          0.157260 -0.028542              -0.194240\n4    0.324540         -0.188153 -0.044580               0.205025\n..        ...               ...       ...                    ...\n195  0.342920         -0.197386  0.154030               0.234527\n196 -0.145189         -0.154176 -0.030979               0.145722\n197 -0.145189         -0.154176 -0.030979               0.145722\n198 -0.092359         -0.092741 -0.009581              -0.119486\n199 -0.182157         -0.191903  0.122571               0.225657\n\n[200 rows x 4 columns]",
            "text/html": "<div>\n<style scoped>\n    .dataframe tbody tr th:only-of-type {\n        vertical-align: middle;\n    }\n\n    .dataframe tbody tr th {\n        vertical-align: top;\n    }\n\n    .dataframe thead th {\n        text-align: right;\n    }\n</style>\n<table border=\"1\" class=\"dataframe\">\n  <thead>\n    <tr style=\"text-align: right;\">\n      <th></th>\n      <th>Age 60+</th>\n      <th>High Cholesterol</th>\n      <th>Diabetes</th>\n      <th>Preventative Services</th>\n    </tr>\n  </thead>\n  <tbody>\n    <tr>\n      <th>0</th>\n      <td>-0.160862</td>\n      <td>0.174142</td>\n      <td>-0.038191</td>\n      <td>0.168637</td>\n    </tr>\n    <tr>\n      <th>1</th>\n      <td>0.264341</td>\n      <td>-0.164026</td>\n      <td>-0.025950</td>\n      <td>-0.226336</td>\n    </tr>\n    <tr>\n      <th>2</th>\n      <td>-0.134345</td>\n      <td>0.157260</td>\n      <td>-0.028542</td>\n      <td>-0.194240</td>\n    </tr>\n    <tr>\n      <th>3</th>\n      <td>-0.134345</td>\n      <td>0.157260</td>\n      <td>-0.028542</td>\n      <td>-0.194240</td>\n    </tr>\n    <tr>\n      <th>4</th>\n      <td>0.324540</td>\n      <td>-0.188153</td>\n      <td>-0.044580</td>\n      <td>0.205025</td>\n    </tr>\n    <tr>\n      <th>...</th>\n      <td>...</td>\n      <td>...</td>\n      <td>...</td>\n      <td>...</td>\n    </tr>\n    <tr>\n      <th>195</th>\n      <td>0.342920</td>\n      <td>-0.197386</td>\n      <td>0.154030</td>\n      <td>0.234527</td>\n    </tr>\n    <tr>\n      <th>196</th>\n      <td>-0.145189</td>\n      <td>-0.154176</td>\n      <td>-0.030979</td>\n      <td>0.145722</td>\n    </tr>\n    <tr>\n      <th>197</th>\n      <td>-0.145189</td>\n      <td>-0.154176</td>\n      <td>-0.030979</td>\n      <td>0.145722</td>\n    </tr>\n    <tr>\n      <th>198</th>\n      <td>-0.092359</td>\n      <td>-0.092741</td>\n      <td>-0.009581</td>\n      <td>-0.119486</td>\n    </tr>\n    <tr>\n      <th>199</th>\n      <td>-0.182157</td>\n      <td>-0.191903</td>\n      <td>0.122571</td>\n      <td>0.225657</td>\n    </tr>\n  </tbody>\n</table>\n<p>200 rows × 4 columns</p>\n</div>"
          },
          "metadata": {}
        }
      ],
      "execution_count": 19,
      "metadata": {
        "jupyter": {
          "source_hidden": false,
          "outputs_hidden": false
        },
        "nteract": {
          "transient": {
            "deleting": false
          }
        },
        "gather": {
          "logged": 1701814705644
        }
      }
    },
    {
      "cell_type": "code",
      "source": [
        "# Convert hospital_id to a Pandas Series (if it's not already one)\n",
        "hospital_id_series = pd.Series(hospital_id, name='Hospital ID')\n",
        "\n",
        "# Concatenate hospital_id_series with shap_df\n",
        "shap_df_id = pd.concat([hospital_id_series, shap_df], axis=1).reset_index(drop=True)\n",
        "\n",
        "# Display the resulting DataFrame\n",
        "shap_df_id"
      ],
      "outputs": [
        {
          "output_type": "execute_result",
          "execution_count": 47,
          "data": {
            "text/plain": "     Hospital ID   Age 60+  High Cholesterol  Diabetes  Preventative Services\n0             10 -1.446149         -1.559696 -0.152059              -1.805626\n1              5  1.750355         -0.946588 -0.180997              -1.271719\n2              5  2.127268          1.134607  1.186097               1.105225\n3              7 -0.801110          1.168890 -0.239809              -1.175996\n4              4 -0.801110          1.168890 -0.239809              -1.175996\n..           ...       ...               ...       ...                    ...\n995            3 -0.924451          0.961066  0.621626               0.866335\n996            8  1.623267          0.895238 -0.349454               0.904883\n997            7 -0.844911         -0.884697 -0.253785               1.075322\n998            3  1.750355         -0.946588 -0.180997              -1.271719\n999            9 -0.894171         -0.880833  0.611748               1.246345\n\n[1000 rows x 5 columns]",
            "text/html": "<div>\n<style scoped>\n    .dataframe tbody tr th:only-of-type {\n        vertical-align: middle;\n    }\n\n    .dataframe tbody tr th {\n        vertical-align: top;\n    }\n\n    .dataframe thead th {\n        text-align: right;\n    }\n</style>\n<table border=\"1\" class=\"dataframe\">\n  <thead>\n    <tr style=\"text-align: right;\">\n      <th></th>\n      <th>Hospital ID</th>\n      <th>Age 60+</th>\n      <th>High Cholesterol</th>\n      <th>Diabetes</th>\n      <th>Preventative Services</th>\n    </tr>\n  </thead>\n  <tbody>\n    <tr>\n      <th>0</th>\n      <td>10</td>\n      <td>-1.446149</td>\n      <td>-1.559696</td>\n      <td>-0.152059</td>\n      <td>-1.805626</td>\n    </tr>\n    <tr>\n      <th>1</th>\n      <td>5</td>\n      <td>1.750355</td>\n      <td>-0.946588</td>\n      <td>-0.180997</td>\n      <td>-1.271719</td>\n    </tr>\n    <tr>\n      <th>2</th>\n      <td>5</td>\n      <td>2.127268</td>\n      <td>1.134607</td>\n      <td>1.186097</td>\n      <td>1.105225</td>\n    </tr>\n    <tr>\n      <th>3</th>\n      <td>7</td>\n      <td>-0.801110</td>\n      <td>1.168890</td>\n      <td>-0.239809</td>\n      <td>-1.175996</td>\n    </tr>\n    <tr>\n      <th>4</th>\n      <td>4</td>\n      <td>-0.801110</td>\n      <td>1.168890</td>\n      <td>-0.239809</td>\n      <td>-1.175996</td>\n    </tr>\n    <tr>\n      <th>...</th>\n      <td>...</td>\n      <td>...</td>\n      <td>...</td>\n      <td>...</td>\n      <td>...</td>\n    </tr>\n    <tr>\n      <th>995</th>\n      <td>3</td>\n      <td>-0.924451</td>\n      <td>0.961066</td>\n      <td>0.621626</td>\n      <td>0.866335</td>\n    </tr>\n    <tr>\n      <th>996</th>\n      <td>8</td>\n      <td>1.623267</td>\n      <td>0.895238</td>\n      <td>-0.349454</td>\n      <td>0.904883</td>\n    </tr>\n    <tr>\n      <th>997</th>\n      <td>7</td>\n      <td>-0.844911</td>\n      <td>-0.884697</td>\n      <td>-0.253785</td>\n      <td>1.075322</td>\n    </tr>\n    <tr>\n      <th>998</th>\n      <td>3</td>\n      <td>1.750355</td>\n      <td>-0.946588</td>\n      <td>-0.180997</td>\n      <td>-1.271719</td>\n    </tr>\n    <tr>\n      <th>999</th>\n      <td>9</td>\n      <td>-0.894171</td>\n      <td>-0.880833</td>\n      <td>0.611748</td>\n      <td>1.246345</td>\n    </tr>\n  </tbody>\n</table>\n<p>1000 rows × 5 columns</p>\n</div>"
          },
          "metadata": {}
        }
      ],
      "execution_count": 47,
      "metadata": {
        "jupyter": {
          "source_hidden": false,
          "outputs_hidden": false
        },
        "nteract": {
          "transient": {
            "deleting": false
          }
        },
        "gather": {
          "logged": 1701811718129
        }
      }
    },
    {
      "cell_type": "code",
      "source": [
        "import numpy as np\n",
        "import pandas as pd\n",
        "\n",
        "# Assuming X, shap_df, and hospital_id_series are already defined\n",
        "\n",
        "# Calculate medians for each column in the original dataset\n",
        "medians = X.median()\n",
        "\n",
        "# Initialize a mask for rows to keep\n",
        "keep_rows = np.ones(len(shap_df), dtype=bool)\n",
        "\n",
        "# Iterate over each column and update the mask\n",
        "for col in X.columns:\n",
        "    keep_rows &= X[col] > medians[col]\n",
        "\n",
        "# Apply the mask to the SHAP values DataFrame\n",
        "filtered_shap_df = shap_df[keep_rows]\n",
        "\n",
        "# Also filter the hospital_id_series to match the filtered SHAP values\n",
        "filtered_hospital_id_series = hospital_id_series[keep_rows]\n",
        "\n",
        "# Define the standard deviation of the noise\n",
        "std_dev = 0.05  # Adjust this value as needed\n",
        "\n",
        "# Generate random noise with the same shape as filtered_shap_df\n",
        "noise = np.random.normal(0, std_dev, filtered_shap_df.shape)\n",
        "\n",
        "# Add the noise to the filtered SHAP values\n",
        "filtered_shap_df_noisy = filtered_shap_df \n",
        "\n",
        "# Concatenate the filtered 'Hospital ID' with the noisy SHAP values\n",
        "final_shap_df = pd.concat([filtered_hospital_id_series.reset_index(drop=True), filtered_shap_df_noisy.reset_index(drop=True)], axis=1)\n",
        "\n",
        "# Display the resulting DataFrame with noise added\n",
        "final_shap_df\n"
      ],
      "outputs": [
        {
          "output_type": "execute_result",
          "execution_count": 49,
          "data": {
            "text/plain": "    Hospital ID   Age 60+  High Cholesterol  Diabetes  Preventative Services\n0             8  1.782061          1.158435  0.846665              -1.316452\n1             1  1.782061          1.158435  0.846665              -1.316452\n2             3  1.782061          1.158435  0.846665              -1.316452\n3             1  1.782061          1.158435  0.846665              -1.316452\n4             2  1.782061          1.158435  0.846665              -1.316452\n5            10  1.782061          1.158435  0.846665              -1.316452\n6            10  1.782061          1.158435  0.846665              -1.316452\n7             9  1.782061          1.158435  0.846665              -1.316452\n8             2  1.782061          1.158435  0.846665              -1.316452\n9             9  1.782061          1.158435  0.846665              -1.316452\n10            7  1.782061          1.158435  0.846665              -1.316452\n11            8  1.782061          1.158435  0.846665              -1.316452\n12            1  1.782061          1.158435  0.846665              -1.316452\n13            6  1.782061          1.158435  0.846665              -1.316452\n14            8  1.782061          1.158435  0.846665              -1.316452\n15            9  1.782061          1.158435  0.846665              -1.316452\n16            1  1.782061          1.158435  0.846665              -1.316452\n17            8  1.782061          1.158435  0.846665              -1.316452\n18            1  1.782061          1.158435  0.846665              -1.316452",
            "text/html": "<div>\n<style scoped>\n    .dataframe tbody tr th:only-of-type {\n        vertical-align: middle;\n    }\n\n    .dataframe tbody tr th {\n        vertical-align: top;\n    }\n\n    .dataframe thead th {\n        text-align: right;\n    }\n</style>\n<table border=\"1\" class=\"dataframe\">\n  <thead>\n    <tr style=\"text-align: right;\">\n      <th></th>\n      <th>Hospital ID</th>\n      <th>Age 60+</th>\n      <th>High Cholesterol</th>\n      <th>Diabetes</th>\n      <th>Preventative Services</th>\n    </tr>\n  </thead>\n  <tbody>\n    <tr>\n      <th>0</th>\n      <td>8</td>\n      <td>1.782061</td>\n      <td>1.158435</td>\n      <td>0.846665</td>\n      <td>-1.316452</td>\n    </tr>\n    <tr>\n      <th>1</th>\n      <td>1</td>\n      <td>1.782061</td>\n      <td>1.158435</td>\n      <td>0.846665</td>\n      <td>-1.316452</td>\n    </tr>\n    <tr>\n      <th>2</th>\n      <td>3</td>\n      <td>1.782061</td>\n      <td>1.158435</td>\n      <td>0.846665</td>\n      <td>-1.316452</td>\n    </tr>\n    <tr>\n      <th>3</th>\n      <td>1</td>\n      <td>1.782061</td>\n      <td>1.158435</td>\n      <td>0.846665</td>\n      <td>-1.316452</td>\n    </tr>\n    <tr>\n      <th>4</th>\n      <td>2</td>\n      <td>1.782061</td>\n      <td>1.158435</td>\n      <td>0.846665</td>\n      <td>-1.316452</td>\n    </tr>\n    <tr>\n      <th>5</th>\n      <td>10</td>\n      <td>1.782061</td>\n      <td>1.158435</td>\n      <td>0.846665</td>\n      <td>-1.316452</td>\n    </tr>\n    <tr>\n      <th>6</th>\n      <td>10</td>\n      <td>1.782061</td>\n      <td>1.158435</td>\n      <td>0.846665</td>\n      <td>-1.316452</td>\n    </tr>\n    <tr>\n      <th>7</th>\n      <td>9</td>\n      <td>1.782061</td>\n      <td>1.158435</td>\n      <td>0.846665</td>\n      <td>-1.316452</td>\n    </tr>\n    <tr>\n      <th>8</th>\n      <td>2</td>\n      <td>1.782061</td>\n      <td>1.158435</td>\n      <td>0.846665</td>\n      <td>-1.316452</td>\n    </tr>\n    <tr>\n      <th>9</th>\n      <td>9</td>\n      <td>1.782061</td>\n      <td>1.158435</td>\n      <td>0.846665</td>\n      <td>-1.316452</td>\n    </tr>\n    <tr>\n      <th>10</th>\n      <td>7</td>\n      <td>1.782061</td>\n      <td>1.158435</td>\n      <td>0.846665</td>\n      <td>-1.316452</td>\n    </tr>\n    <tr>\n      <th>11</th>\n      <td>8</td>\n      <td>1.782061</td>\n      <td>1.158435</td>\n      <td>0.846665</td>\n      <td>-1.316452</td>\n    </tr>\n    <tr>\n      <th>12</th>\n      <td>1</td>\n      <td>1.782061</td>\n      <td>1.158435</td>\n      <td>0.846665</td>\n      <td>-1.316452</td>\n    </tr>\n    <tr>\n      <th>13</th>\n      <td>6</td>\n      <td>1.782061</td>\n      <td>1.158435</td>\n      <td>0.846665</td>\n      <td>-1.316452</td>\n    </tr>\n    <tr>\n      <th>14</th>\n      <td>8</td>\n      <td>1.782061</td>\n      <td>1.158435</td>\n      <td>0.846665</td>\n      <td>-1.316452</td>\n    </tr>\n    <tr>\n      <th>15</th>\n      <td>9</td>\n      <td>1.782061</td>\n      <td>1.158435</td>\n      <td>0.846665</td>\n      <td>-1.316452</td>\n    </tr>\n    <tr>\n      <th>16</th>\n      <td>1</td>\n      <td>1.782061</td>\n      <td>1.158435</td>\n      <td>0.846665</td>\n      <td>-1.316452</td>\n    </tr>\n    <tr>\n      <th>17</th>\n      <td>8</td>\n      <td>1.782061</td>\n      <td>1.158435</td>\n      <td>0.846665</td>\n      <td>-1.316452</td>\n    </tr>\n    <tr>\n      <th>18</th>\n      <td>1</td>\n      <td>1.782061</td>\n      <td>1.158435</td>\n      <td>0.846665</td>\n      <td>-1.316452</td>\n    </tr>\n  </tbody>\n</table>\n</div>"
          },
          "metadata": {}
        }
      ],
      "execution_count": 49,
      "metadata": {
        "jupyter": {
          "source_hidden": false,
          "outputs_hidden": false
        },
        "nteract": {
          "transient": {
            "deleting": false
          }
        },
        "gather": {
          "logged": 1701811910868
        }
      }
    },
    {
      "cell_type": "code",
      "source": [
        "hospital_id_id_series =  filtered_hospital_id_series.reset_index(drop = True)\n",
        "hospital_id_id_series"
      ],
      "outputs": [
        {
          "output_type": "execute_result",
          "execution_count": 45,
          "data": {
            "text/plain": "0      8\n1      1\n2      3\n3      1\n4      2\n5     10\n6     10\n7      9\n8      2\n9      9\n10     7\n11     8\n12     1\n13     6\n14     8\n15     9\n16     1\n17     8\n18     1\nName: Hospital ID, dtype: int64"
          },
          "metadata": {}
        }
      ],
      "execution_count": 45,
      "metadata": {
        "jupyter": {
          "source_hidden": false,
          "outputs_hidden": false
        },
        "nteract": {
          "transient": {
            "deleting": false
          }
        },
        "gather": {
          "logged": 1701811608463
        }
      }
    },
    {
      "cell_type": "code",
      "source": [
        "data_shap_noise = pd.concat([hospital_id_id_series, data_shap_noise], axis = 1)\n",
        "data_shap_noise"
      ],
      "outputs": [
        {
          "output_type": "execute_result",
          "execution_count": 42,
          "data": {
            "text/plain": "     Hospital ID   Age 60+  High Cholesterol  Diabetes  Preventative Services\n0            8.0 -1.404424         -1.569653 -0.116414              -1.858880\n1            1.0  1.731227         -0.993487 -0.158861              -1.280777\n2            3.0  2.215922          1.101086  1.134117               1.120062\n3            1.0 -0.809921          1.194015 -0.242892              -1.183030\n4            2.0 -0.834508          1.155410 -0.316292              -1.116113\n..           ...       ...               ...       ...                    ...\n995          NaN -0.909574          1.022304  0.659704               0.942161\n996          NaN  1.577863          0.940106 -0.388079               0.988329\n997          NaN -0.822505         -0.859354 -0.282886               1.048754\n998          NaN  1.770619         -0.859175 -0.101878              -1.253795\n999          NaN -0.915237         -0.852188  0.674471               1.256935\n\n[1000 rows x 5 columns]",
            "text/html": "<div>\n<style scoped>\n    .dataframe tbody tr th:only-of-type {\n        vertical-align: middle;\n    }\n\n    .dataframe tbody tr th {\n        vertical-align: top;\n    }\n\n    .dataframe thead th {\n        text-align: right;\n    }\n</style>\n<table border=\"1\" class=\"dataframe\">\n  <thead>\n    <tr style=\"text-align: right;\">\n      <th></th>\n      <th>Hospital ID</th>\n      <th>Age 60+</th>\n      <th>High Cholesterol</th>\n      <th>Diabetes</th>\n      <th>Preventative Services</th>\n    </tr>\n  </thead>\n  <tbody>\n    <tr>\n      <th>0</th>\n      <td>8.0</td>\n      <td>-1.404424</td>\n      <td>-1.569653</td>\n      <td>-0.116414</td>\n      <td>-1.858880</td>\n    </tr>\n    <tr>\n      <th>1</th>\n      <td>1.0</td>\n      <td>1.731227</td>\n      <td>-0.993487</td>\n      <td>-0.158861</td>\n      <td>-1.280777</td>\n    </tr>\n    <tr>\n      <th>2</th>\n      <td>3.0</td>\n      <td>2.215922</td>\n      <td>1.101086</td>\n      <td>1.134117</td>\n      <td>1.120062</td>\n    </tr>\n    <tr>\n      <th>3</th>\n      <td>1.0</td>\n      <td>-0.809921</td>\n      <td>1.194015</td>\n      <td>-0.242892</td>\n      <td>-1.183030</td>\n    </tr>\n    <tr>\n      <th>4</th>\n      <td>2.0</td>\n      <td>-0.834508</td>\n      <td>1.155410</td>\n      <td>-0.316292</td>\n      <td>-1.116113</td>\n    </tr>\n    <tr>\n      <th>...</th>\n      <td>...</td>\n      <td>...</td>\n      <td>...</td>\n      <td>...</td>\n      <td>...</td>\n    </tr>\n    <tr>\n      <th>995</th>\n      <td>NaN</td>\n      <td>-0.909574</td>\n      <td>1.022304</td>\n      <td>0.659704</td>\n      <td>0.942161</td>\n    </tr>\n    <tr>\n      <th>996</th>\n      <td>NaN</td>\n      <td>1.577863</td>\n      <td>0.940106</td>\n      <td>-0.388079</td>\n      <td>0.988329</td>\n    </tr>\n    <tr>\n      <th>997</th>\n      <td>NaN</td>\n      <td>-0.822505</td>\n      <td>-0.859354</td>\n      <td>-0.282886</td>\n      <td>1.048754</td>\n    </tr>\n    <tr>\n      <th>998</th>\n      <td>NaN</td>\n      <td>1.770619</td>\n      <td>-0.859175</td>\n      <td>-0.101878</td>\n      <td>-1.253795</td>\n    </tr>\n    <tr>\n      <th>999</th>\n      <td>NaN</td>\n      <td>-0.915237</td>\n      <td>-0.852188</td>\n      <td>0.674471</td>\n      <td>1.256935</td>\n    </tr>\n  </tbody>\n</table>\n<p>1000 rows × 5 columns</p>\n</div>"
          },
          "metadata": {}
        }
      ],
      "execution_count": 42,
      "metadata": {
        "jupyter": {
          "source_hidden": false,
          "outputs_hidden": false
        },
        "nteract": {
          "transient": {
            "deleting": false
          }
        },
        "gather": {
          "logged": 1701811586103
        }
      }
    },
    {
      "cell_type": "code",
      "source": [],
      "outputs": [
        {
          "output_type": "execute_result",
          "execution_count": 38,
          "data": {
            "text/plain": "      Age 60+  High Cholesterol  Diabetes  Preventative Services\n0   -1.404424         -1.569653 -0.116414              -1.858880\n1    1.731227         -0.993487 -0.158861              -1.280777\n2    2.215922          1.101086  1.134117               1.120062\n3   -0.809921          1.194015 -0.242892              -1.183030\n4   -0.834508          1.155410 -0.316292              -1.116113\n..        ...               ...       ...                    ...\n995 -0.909574          1.022304  0.659704               0.942161\n996  1.577863          0.940106 -0.388079               0.988329\n997 -0.822505         -0.859354 -0.282886               1.048754\n998  1.770619         -0.859175 -0.101878              -1.253795\n999 -0.915237         -0.852188  0.674471               1.256935\n\n[1000 rows x 4 columns]",
            "text/html": "<div>\n<style scoped>\n    .dataframe tbody tr th:only-of-type {\n        vertical-align: middle;\n    }\n\n    .dataframe tbody tr th {\n        vertical-align: top;\n    }\n\n    .dataframe thead th {\n        text-align: right;\n    }\n</style>\n<table border=\"1\" class=\"dataframe\">\n  <thead>\n    <tr style=\"text-align: right;\">\n      <th></th>\n      <th>Age 60+</th>\n      <th>High Cholesterol</th>\n      <th>Diabetes</th>\n      <th>Preventative Services</th>\n    </tr>\n  </thead>\n  <tbody>\n    <tr>\n      <th>0</th>\n      <td>-1.404424</td>\n      <td>-1.569653</td>\n      <td>-0.116414</td>\n      <td>-1.858880</td>\n    </tr>\n    <tr>\n      <th>1</th>\n      <td>1.731227</td>\n      <td>-0.993487</td>\n      <td>-0.158861</td>\n      <td>-1.280777</td>\n    </tr>\n    <tr>\n      <th>2</th>\n      <td>2.215922</td>\n      <td>1.101086</td>\n      <td>1.134117</td>\n      <td>1.120062</td>\n    </tr>\n    <tr>\n      <th>3</th>\n      <td>-0.809921</td>\n      <td>1.194015</td>\n      <td>-0.242892</td>\n      <td>-1.183030</td>\n    </tr>\n    <tr>\n      <th>4</th>\n      <td>-0.834508</td>\n      <td>1.155410</td>\n      <td>-0.316292</td>\n      <td>-1.116113</td>\n    </tr>\n    <tr>\n      <th>...</th>\n      <td>...</td>\n      <td>...</td>\n      <td>...</td>\n      <td>...</td>\n    </tr>\n    <tr>\n      <th>995</th>\n      <td>-0.909574</td>\n      <td>1.022304</td>\n      <td>0.659704</td>\n      <td>0.942161</td>\n    </tr>\n    <tr>\n      <th>996</th>\n      <td>1.577863</td>\n      <td>0.940106</td>\n      <td>-0.388079</td>\n      <td>0.988329</td>\n    </tr>\n    <tr>\n      <th>997</th>\n      <td>-0.822505</td>\n      <td>-0.859354</td>\n      <td>-0.282886</td>\n      <td>1.048754</td>\n    </tr>\n    <tr>\n      <th>998</th>\n      <td>1.770619</td>\n      <td>-0.859175</td>\n      <td>-0.101878</td>\n      <td>-1.253795</td>\n    </tr>\n    <tr>\n      <th>999</th>\n      <td>-0.915237</td>\n      <td>-0.852188</td>\n      <td>0.674471</td>\n      <td>1.256935</td>\n    </tr>\n  </tbody>\n</table>\n<p>1000 rows × 4 columns</p>\n</div>"
          },
          "metadata": {}
        }
      ],
      "execution_count": 38,
      "metadata": {
        "jupyter": {
          "source_hidden": false,
          "outputs_hidden": false
        },
        "nteract": {
          "transient": {
            "deleting": false
          }
        },
        "gather": {
          "logged": 1701811529078
        }
      }
    }
  ],
  "metadata": {
    "kernelspec": {
      "name": "python38-azureml",
      "language": "python",
      "display_name": "Python 3.8 - AzureML"
    },
    "language_info": {
      "name": "python",
      "version": "3.8.5",
      "mimetype": "text/x-python",
      "codemirror_mode": {
        "name": "ipython",
        "version": 3
      },
      "pygments_lexer": "ipython3",
      "nbconvert_exporter": "python",
      "file_extension": ".py"
    },
    "microsoft": {
      "ms_spell_check": {
        "ms_spell_check_language": "en"
      },
      "host": {
        "AzureML": {
          "notebookHasBeenCompleted": true
        }
      }
    },
    "kernel_info": {
      "name": "python38-azureml"
    },
    "nteract": {
      "version": "nteract-front-end@1.0.0"
    }
  },
  "nbformat": 4,
  "nbformat_minor": 2
}