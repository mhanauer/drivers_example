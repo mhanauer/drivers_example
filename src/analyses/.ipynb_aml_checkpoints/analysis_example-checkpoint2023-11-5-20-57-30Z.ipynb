{
  "cells": [
    {
      "cell_type": "code",
      "source": [
        "import numpy as np\n",
        "import pandas as pd\n",
        "\n",
        "# Set random seed for reproducibility\n",
        "np.random.seed(42)\n",
        "\n",
        "# Number of samples\n",
        "n_samples = 1000\n",
        "\n",
        "# Generate predictors\n",
        "age_60_plus = np.random.binomial(1, 0.3, n_samples)\n",
        "high_cholesterol = np.random.binomial(1, 0.4, n_samples)\n",
        "diabetes = np.random.binomial(1, 0.25, n_samples)\n",
        "preventative_services = np.random.binomial(1, 0.5, n_samples)\n",
        "\n",
        "# Generate hospital_id (from 1 to 10)\n",
        "hospital_id = np.random.randint(1, 11, n_samples)\n",
        "\n",
        "# Initialize the outcome array\n",
        "er_visit = np.zeros(n_samples, dtype=int)\n",
        "\n",
        "# Simulate the outcome based on correlations\n",
        "for i in range(n_samples):\n",
        "    prob = 0.1  # Base probability of ER visit\n",
        "    if age_60_plus[i] == 1:\n",
        "        prob += 0.4\n",
        "    if high_cholesterol[i] == 1:\n",
        "        prob += 0.4\n",
        "    if diabetes[i] == 1:\n",
        "        prob += 0.2\n",
        "    if preventative_services[i] == 1:\n",
        "        prob -= 0.4\n",
        "\n",
        "    er_visit[i] = np.random.binomial(1, min(max(prob, 0), 1))\n",
        "\n",
        "# Create a DataFrame\n",
        "data = pd.DataFrame({\n",
        "    'Hospital ID': hospital_id,\n",
        "    'Age 60+': age_60_plus,\n",
        "    'High Cholesterol': high_cholesterol,\n",
        "    'Diabetes': diabetes,\n",
        "    'Preventative Services': preventative_services,\n",
        "    'ER Visit': er_visit\n",
        "})\n",
        "\n",
        "# Display the first few rows of the dataset\n",
        "print(data.head())\n"
      ],
      "outputs": [
        {
          "output_type": "stream",
          "name": "stdout",
          "text": "   Hospital ID  Age 60+  High Cholesterol  Diabetes  Preventative Services  \\\n0           10        0                 0         0                      1   \n1            5        1                 0         0                      1   \n2            5        1                 1         1                      0   \n3            7        0                 1         0                      1   \n4            4        0                 1         0                      1   \n\n   ER Visit  \n0         0  \n1         1  \n2         1  \n3         0  \n4         0  \n"
        }
      ],
      "execution_count": 3,
      "metadata": {
        "gather": {
          "logged": 1701809831029
        }
      }
    },
    {
      "cell_type": "code",
      "source": [
        "import xgboost as xgb\n",
        "from sklearn.model_selection import train_test_split\n",
        "import shap\n",
        "\n",
        "# Prepare the data\n",
        "X = data.drop('ER Visit', axis=1)\n",
        "y = data['ER Visit']\n",
        "\n",
        "# Split the data into training and testing sets\n",
        "X_train, X_test, y_train, y_test = train_test_split(X, y, test_size=0.2, random_state=42)\n",
        "\n",
        "# Train the XGBoost model\n",
        "model = xgb.XGBClassifier(use_label_encoder=False, eval_metric='logloss')\n",
        "model.fit(X_train, y_train)\n",
        "\n",
        "# Make predictions (optional, to evaluate model)\n",
        "predictions = model.predict(X_test)\n",
        "\n",
        "# Compute SHAP values\n",
        "explainer = shap.Explainer(model)\n",
        "shap_values = explainer(X)\n",
        "\n",
        "# Plot SHAP values (for example, for the first prediction)\n",
        "shap.initjs() # Initialize JavaScript visualization in Jupyter\n",
        "shap.force_plot(explainer.expected_value, shap_values[0,:], X.iloc[0,:])\n"
      ],
      "outputs": [],
      "execution_count": 4,
      "metadata": {
        "jupyter": {
          "source_hidden": false,
          "outputs_hidden": false
        },
        "nteract": {
          "transient": {
            "deleting": false
          }
        },
        "gather": {
          "logged": 1701809592613
        }
      }
    }
  ],
  "metadata": {
    "kernelspec": {
      "name": "python38-azureml",
      "language": "python",
      "display_name": "Python 3.8 - AzureML"
    },
    "language_info": {
      "name": "python",
      "version": "3.8.5",
      "mimetype": "text/x-python",
      "codemirror_mode": {
        "name": "ipython",
        "version": 3
      },
      "pygments_lexer": "ipython3",
      "nbconvert_exporter": "python",
      "file_extension": ".py"
    },
    "microsoft": {
      "ms_spell_check": {
        "ms_spell_check_language": "en"
      },
      "host": {
        "AzureML": {
          "notebookHasBeenCompleted": true
        }
      }
    },
    "kernel_info": {
      "name": "python38-azureml"
    },
    "nteract": {
      "version": "nteract-front-end@1.0.0"
    }
  },
  "nbformat": 4,
  "nbformat_minor": 2
}