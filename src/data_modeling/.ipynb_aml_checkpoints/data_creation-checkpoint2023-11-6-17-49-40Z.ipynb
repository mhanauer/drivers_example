{
  "cells": [
    {
      "cell_type": "code",
      "source": [
        "%load_ext lab_black"
      ],
      "outputs": [],
      "execution_count": 1,
      "metadata": {
        "jupyter": {
          "source_hidden": false,
          "outputs_hidden": false
        },
        "nteract": {
          "transient": {
            "deleting": false
          }
        }
      }
    },
    {
      "cell_type": "code",
      "source": [
        "import numpy as np\n",
        "import pandas as pd\n",
        "from pyprojroot import here\n",
        "import os\n",
        "\n",
        "path_data = here(\"./data\")\n",
        "os.chdir(path_data)\n"
      ],
      "outputs": [
        {
          "output_type": "error",
          "ename": "ModuleNotFoundError",
          "evalue": "No module named 'pyprojroot'",
          "traceback": [
            "\u001b[0;31m---------------------------------------------------------------------------\u001b[0m",
            "\u001b[0;31mModuleNotFoundError\u001b[0m                       Traceback (most recent call last)",
            "Cell \u001b[0;32mIn[2], line 3\u001b[0m\n\u001b[1;32m      1\u001b[0m \u001b[38;5;28;01mimport\u001b[39;00m \u001b[38;5;21;01mnumpy\u001b[39;00m \u001b[38;5;28;01mas\u001b[39;00m \u001b[38;5;21;01mnp\u001b[39;00m\n\u001b[1;32m      2\u001b[0m \u001b[38;5;28;01mimport\u001b[39;00m \u001b[38;5;21;01mpandas\u001b[39;00m \u001b[38;5;28;01mas\u001b[39;00m \u001b[38;5;21;01mpd\u001b[39;00m\n\u001b[0;32m----> 3\u001b[0m \u001b[38;5;28;01mfrom\u001b[39;00m \u001b[38;5;21;01mpyprojroot\u001b[39;00m \u001b[38;5;28;01mimport\u001b[39;00m here\n\u001b[1;32m      4\u001b[0m \u001b[38;5;28;01mimport\u001b[39;00m \u001b[38;5;21;01mos\u001b[39;00m\n\u001b[1;32m      6\u001b[0m path_data \u001b[38;5;241m=\u001b[39m here(\u001b[38;5;124m\"\u001b[39m\u001b[38;5;124m./data\u001b[39m\u001b[38;5;124m\"\u001b[39m)\n",
            "\u001b[0;31mModuleNotFoundError\u001b[0m: No module named 'pyprojroot'"
          ]
        }
      ],
      "execution_count": 2,
      "metadata": {
        "gather": {
          "logged": 1701884955114
        }
      }
    },
    {
      "cell_type": "code",
      "source": [
        "\n",
        "\n",
        "# Set random seed for reproducibility\n",
        "np.random.seed(42)\n",
        "\n",
        "# Number of samples\n",
        "n_samples = 10000\n",
        "\n",
        "# Generate predictors\n",
        "age_60_plus = np.random.binomial(1, 0.3, n_samples)\n",
        "high_cholesterol = np.random.binomial(1, 0.4, n_samples)\n",
        "diabetes = np.random.binomial(1, 0.25, n_samples)\n",
        "preventative_services = np.random.binomial(1, 0.5, n_samples)\n",
        "\n",
        "# Generate hospital_id (from 1 to 10)\n",
        "hospital_id = np.random.randint(1, 4, n_samples)\n",
        "\n",
        "# Initialize the outcome array\n",
        "er_visit = np.zeros(n_samples, dtype=int)\n",
        "\n",
        "# Simulate the outcome based on correlations\n",
        "for i in range(n_samples):\n",
        "    prob = 0.1  # Base probability of ER visit\n",
        "    if age_60_plus[i] == 1:\n",
        "        prob += 0.4\n",
        "    if high_cholesterol[i] == 1:\n",
        "        prob += 0.4\n",
        "    if diabetes[i] == 1:\n",
        "        prob += 0.2\n",
        "    if preventative_services[i] == 1:\n",
        "        prob -= 0.4\n",
        "\n",
        "    er_visit[i] = np.random.binomial(1, min(max(prob, 0), 1))\n",
        "\n",
        "# Create a DataFrame\n",
        "data = pd.DataFrame(\n",
        "    {\n",
        "        \"Hospital ID\": hospital_id,\n",
        "        \"Age 60+\": age_60_plus,\n",
        "        \"High Cholesterol\": high_cholesterol,\n",
        "        \"Diabetes\": diabetes,\n",
        "        \"Preventative Services\": preventative_services,\n",
        "        \"ER Visit\": er_visit,\n",
        "    }\n",
        ")\n",
        "\n",
        "# Display the first few rows of the dataset\n",
        "data[\"Hospital ID\"].value_counts()\n",
        "\n"
      ],
      "outputs": [],
      "execution_count": null,
      "metadata": {
        "jupyter": {
          "source_hidden": false,
          "outputs_hidden": false
        },
        "nteract": {
          "transient": {
            "deleting": false
          }
        }
      }
    }
  ],
  "metadata": {
    "kernelspec": {
      "name": "python38-azureml",
      "language": "python",
      "display_name": "Python 3.8 - AzureML"
    },
    "language_info": {
      "name": "python",
      "version": "3.8.5",
      "mimetype": "text/x-python",
      "codemirror_mode": {
        "name": "ipython",
        "version": 3
      },
      "pygments_lexer": "ipython3",
      "nbconvert_exporter": "python",
      "file_extension": ".py"
    },
    "microsoft": {
      "ms_spell_check": {
        "ms_spell_check_language": "en"
      }
    },
    "kernel_info": {
      "name": "python38-azureml"
    },
    "nteract": {
      "version": "nteract-front-end@1.0.0"
    }
  },
  "nbformat": 4,
  "nbformat_minor": 2
}